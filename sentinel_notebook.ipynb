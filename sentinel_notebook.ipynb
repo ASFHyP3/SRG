{
 "cells": [
  {
   "cell_type": "markdown",
   "metadata": {},
   "source": [
    "# Notebook to Process Sentinel-1 Stack Using Backprojection"
   ]
  },
  {
   "cell_type": "markdown",
   "metadata": {},
   "source": [
    "This notebook allows you to download Sentinel-1 data from the ASF archive and process it to geocoded, phase compensated SLC files.  Each output file has a .geo suffix, and can be downloaded from your own data area in OpenSARlab or from Google drive."
   ]
  },
  {
   "cell_type": "markdown",
   "metadata": {},
   "source": [
    "#### Step 1.  Prepare your working area in OpenSARlab\n",
    "\n",
    "Open a page in OpenSARlab, which will place you in your home area in the cloud. Create a working directory for your analysis, and cd to that directory.  For all commands in this notebook, click on the command box and then click the Run button above."
   ]
  },
  {
   "cell_type": "code",
   "execution_count": null,
   "metadata": {
    "scrolled": true
   },
   "outputs": [],
   "source": [
    "!mkdir /home/jovyan/mydata\n",
    "%cd /home/jovyan/mydata"
   ]
  },
  {
   "cell_type": "markdown",
   "metadata": {},
   "source": [
    "#### Step 2.  Download Sentinel raw data to your area\n",
    "Log into the Vertex system at ASF and search for files you wish to process. Identify and select the L0 raw data products. Add these to your downloads cart. Open the cart by clicking on the Downloads button in the upper right part of your window. \n",
    "\n",
    "In the Vertex interface Downloads cart, click on Copy File IDs (not Data Download).  Then run the following command box (hit Run above) and paste your file IDs into the box prompt."
   ]
  },
  {
   "cell_type": "code",
   "execution_count": null,
   "metadata": {
    "scrolled": true
   },
   "outputs": [],
   "source": [
    "fileids = input('Paste file IDs, terminate with <cr>')\n",
    "f=open('fileids','w')\n",
    "print (fileids, file = f)\n",
    "f.close()\n",
    "!python /home/jovyan/sentinel/asfdata/enter_file_ids.py"
   ]
  },
  {
   "cell_type": "markdown",
   "metadata": {},
   "source": [
    "Now execute the ASF download for your files. You will be prompted for your Earthdata username and password.  Your password will not be displayed, but it will be stored temporarily in a file only you can access, which will then deleted. Note: If the requested raw data file exists, it will not be downloaded again.  If you want to download a newer or more completefile, delete the existing .zip file before executing the following."
   ]
  },
  {
   "cell_type": "code",
   "execution_count": null,
   "metadata": {},
   "outputs": [],
   "source": [
    "import getpass\n",
    "import os\n",
    "EDuser=input('Earthdata username: ')\n",
    "EDpassword=getpass.getpass('Earthdata password (no echo): ')\n",
    "f=open('.credentials','w')\n",
    "os.chmod('.credentials', 0o600)\n",
    "f.write(EDuser+'\\n')\n",
    "f.write(EDpassword+'\\n')\n",
    "f.close()\n",
    "!python /home/jovyan/sentinel/asfdata/asfwget_notebook.py scenelist"
   ]
  },
  {
   "cell_type": "markdown",
   "metadata": {},
   "source": [
    "#### Step 3.  Run the processor. \n",
    "The backprojection processor will unpack the raw data products, and create a 30 m posting DEM covering the area of interest.  If you downloaded data from a collection of different track/frame numbers, the DEM will cover the frame of the first item processed. It will also retrieve all of the orbit files from ESA needed to process the scenes."
   ]
  },
  {
   "cell_type": "code",
   "execution_count": null,
   "metadata": {
    "scrolled": false
   },
   "outputs": [],
   "source": [
    "!/home/jovyan/sentinel/sentinel_l0/sentinel_cpu.py"
   ]
  },
  {
   "cell_type": "markdown",
   "metadata": {},
   "source": [
    "When the script finishes, you will have a set of .geo files both in your area and stored in the Google cloud.  Download from either and they are ready for higher level product generation."
   ]
  }
 ],
 "metadata": {
  "kernelspec": {
   "display_name": "Python 3",
   "language": "python",
   "name": "python3"
  },
  "language_info": {
   "codemirror_mode": {
    "name": "ipython",
    "version": 3
   },
   "file_extension": ".py",
   "mimetype": "text/x-python",
   "name": "python",
   "nbconvert_exporter": "python",
   "pygments_lexer": "ipython3",
   "version": "3.7.6"
  }
 },
 "nbformat": 4,
 "nbformat_minor": 2
}
